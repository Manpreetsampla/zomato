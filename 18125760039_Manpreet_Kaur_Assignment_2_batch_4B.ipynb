{
 "cells": [
  {
   "cell_type": "code",
   "execution_count": 23,
   "metadata": {},
   "outputs": [],
   "source": [
    "import selenium\n",
    "from selenium import webdriver\n",
    "import pandas as pd\n",
    "import re"
   ]
  },
  {
   "cell_type": "code",
   "execution_count": 24,
   "metadata": {},
   "outputs": [],
   "source": [
    "browser=webdriver.Chrome('C:/Users/Administrator/chromedriver.exe')"
   ]
  },
  {
   "cell_type": "code",
   "execution_count": 25,
   "metadata": {},
   "outputs": [],
   "source": [
    "browser.get('https://www.zomato.com/bangalore/great-food-no-bull')"
   ]
  },
  {
   "cell_type": "code",
   "execution_count": 11,
   "metadata": {},
   "outputs": [
    {
     "name": "stdout",
     "output_type": "stream",
     "text": [
      "141\n"
     ]
    }
   ],
   "source": [
    "restaurants=browser.find_elements_by_css_selector('div.col-s-8.col-l-1by3')\n",
    "print(len(restaurants))"
   ]
  },
  {
   "cell_type": "code",
   "execution_count": 26,
   "metadata": {},
   "outputs": [],
   "source": [
    "def get_reviews(var,selector,attribute):\n",
    "    try:\n",
    "        tag=var.find_element_by_css_selector(selector)\n",
    "        tag=tag.get_attribute(attribute)\n",
    "    except: \n",
    "        tag=0\n",
    "    return tag"
   ]
  },
  {
   "cell_type": "code",
   "execution_count": 27,
   "metadata": {},
   "outputs": [],
   "source": [
    "url_info=pd.DataFrame(columns=['Restaurant Name','Restaurant ID','URL'])"
   ]
  },
  {
   "cell_type": "code",
   "execution_count": 14,
   "metadata": {},
   "outputs": [
    {
     "data": {
      "text/html": [
       "<div>\n",
       "<style scoped>\n",
       "    .dataframe tbody tr th:only-of-type {\n",
       "        vertical-align: middle;\n",
       "    }\n",
       "\n",
       "    .dataframe tbody tr th {\n",
       "        vertical-align: top;\n",
       "    }\n",
       "\n",
       "    .dataframe thead th {\n",
       "        text-align: right;\n",
       "    }\n",
       "</style>\n",
       "<table border=\"1\" class=\"dataframe\">\n",
       "  <thead>\n",
       "    <tr style=\"text-align: right;\">\n",
       "      <th></th>\n",
       "      <th>Restaurant Name</th>\n",
       "      <th>Restaurant ID</th>\n",
       "      <th>URL</th>\n",
       "    </tr>\n",
       "  </thead>\n",
       "  <tbody>\n",
       "    <tr>\n",
       "      <th>0</th>\n",
       "      <td>Burma Burma</td>\n",
       "      <td>18625420</td>\n",
       "      <td>https://www.zomato.com/bangalore/burma-burma-i...</td>\n",
       "    </tr>\n",
       "    <tr>\n",
       "      <th>1</th>\n",
       "      <td>The Pizza Bakery</td>\n",
       "      <td>18603822</td>\n",
       "      <td>https://www.zomato.com/bangalore/the-pizza-bak...</td>\n",
       "    </tr>\n",
       "    <tr>\n",
       "      <th>2</th>\n",
       "      <td>Nasi And Mee</td>\n",
       "      <td>18476467</td>\n",
       "      <td>https://www.zomato.com/bangalore/nasi-and-mee-...</td>\n",
       "    </tr>\n",
       "    <tr>\n",
       "      <th>3</th>\n",
       "      <td>Prost Brew Pub</td>\n",
       "      <td>54503</td>\n",
       "      <td>https://www.zomato.com/bangalore/prost-brew-pu...</td>\n",
       "    </tr>\n",
       "    <tr>\n",
       "      <th>4</th>\n",
       "      <td>Roots</td>\n",
       "      <td>18270163</td>\n",
       "      <td>https://www.zomato.com/bangalore/roots-koraman...</td>\n",
       "    </tr>\n",
       "  </tbody>\n",
       "</table>\n",
       "</div>"
      ],
      "text/plain": [
       "    Restaurant Name Restaurant ID  \\\n",
       "0       Burma Burma      18625420   \n",
       "1  The Pizza Bakery      18603822   \n",
       "2      Nasi And Mee      18476467   \n",
       "3    Prost Brew Pub         54503   \n",
       "4             Roots      18270163   \n",
       "\n",
       "                                                 URL  \n",
       "0  https://www.zomato.com/bangalore/burma-burma-i...  \n",
       "1  https://www.zomato.com/bangalore/the-pizza-bak...  \n",
       "2  https://www.zomato.com/bangalore/nasi-and-mee-...  \n",
       "3  https://www.zomato.com/bangalore/prost-brew-pu...  \n",
       "4  https://www.zomato.com/bangalore/roots-koraman...  "
      ]
     },
     "execution_count": 14,
     "metadata": {},
     "output_type": "execute_result"
    }
   ],
   "source": [
    "for restaurant in restaurants:\n",
    "    \n",
    "    name=get_reviews(restaurant,'div.res_title.zblack.bold','title')\n",
    "    name=name.lstrip()\n",
    "    \n",
    "    r_id=get_reviews(restaurant,'div.relative.top-res-box.entity-ads-snippet-track','data-res-id')\n",
    "    \n",
    "    url=get_reviews(restaurant,'a','href')\n",
    "  \n",
    "    rest1={'Restaurant Name':name,'Restaurant ID':r_id,'URL':url}\n",
    "    url_info=url_info.append(rest1,ignore_index=True)\n",
    "url_info=url_info.head(55)\n",
    "url_info.head()"
   ]
  },
  {
   "cell_type": "code",
   "execution_count": 28,
   "metadata": {},
   "outputs": [],
   "source": [
    "restaurant_info=pd.DataFrame(columns=['Restaurant Name','Restaurant ID','User Name','User ID','Rating'])"
   ]
  },
  {
   "cell_type": "code",
   "execution_count": 29,
   "metadata": {},
   "outputs": [],
   "source": [
    "c=0\n",
    "for i in range(len(url_info)):\n",
    "    c=c+1\n",
    "    print(c)\n",
    "    browser.get(url_info['URL'].iloc[i])\n",
    "    try:\n",
    "        r_id = url_info['Restaurant ID'].iloc[i]\n",
    "        name=browser.find_element_by_css_selector('h1.res-name.left.mb0')\n",
    "        name=name.find_element_by_css_selector('a')\n",
    "        name=name.get_attribute('innerHTML').lstrip()\n",
    "        name=re.sub('amp;','',name)\n",
    "    except:\n",
    "        r_id=None\n",
    "        continue\n",
    "    if name in url_info['Restaurant Name'].iloc[i]:\n",
    "        \n",
    "        while True:\n",
    "            try:\n",
    "                reviews=browser.find_elements_by_css_selector('div.ui.segments.res-review-body.res-review.clearfix.js-activity-root.mbti.item-to-hide-parent.stupendousact') \n",
    "                for review in reviews:\n",
    "                    try:\n",
    "                        user_name=review.find_element_by_css_selector('div.header.nowrap.ui.left')\n",
    "                        user_name=user_name.find_element_by_css_selector('a')\n",
    "                        user_name=user_name.get_attribute('innerHTML')\n",
    "                        user_name=user_name.strip()\n",
    "                        user_id=review.find_element_by_css_selector('div.header.nowrap.ui.left')\n",
    "                        user_id=user_id.find_element_by_css_selector('a')\n",
    "                        user_id=user_id.get_attribute('data-entity_id')\n",
    "                    except:\n",
    "                        user_name=None\n",
    "                        user_id=None\n",
    "\n",
    "                    try:\n",
    "                        rating=review.find_element_by_css_selector('div.ttupper.fs12px.left.bold.zdhl2.tooltip')\n",
    "                        rating=rating.get_attribute('aria-label')\n",
    "                    except:\n",
    "                        rating=None\n",
    "                    rating=re.sub('Rated','',rating)\n",
    "\n",
    "                    rest={'Restaurant Name':name,'Restaurant ID':r_id,'User Name':user_name,'User ID':user_id,'Rating':rating}\n",
    "                    restaurant_info=restaurant_info.append(rest,ignore_index=True)\n",
    "                browser.find_element_by_css_selector('div.ui.segment.clearfix.zs-load-more.res-page-load-more').click()\n",
    "            except:\n",
    "                break"
   ]
  },
  {
   "cell_type": "code",
   "execution_count": 30,
   "metadata": {},
   "outputs": [
    {
     "data": {
      "text/plain": [
       "(0, 5)"
      ]
     },
     "execution_count": 30,
     "metadata": {},
     "output_type": "execute_result"
    }
   ],
   "source": [
    "restaurant_info.to_csv(\"Reviews.csv\",index=False)\n",
    "restaurant_info.shape"
   ]
  },
  {
   "cell_type": "code",
   "execution_count": 9,
   "metadata": {},
   "outputs": [],
   "source": [
    "#for i in range(20):\n",
    "#    for j in range(20):\n",
    "#        if restaurant_info['Restaurant Name'].iloc[j]==url_info['Restaurant Name'].iloc[i]:\n",
    "#            restaurant_info['Restaurant ID']=url_info['Restaurant ID']\n",
    "#restaurant_info"
   ]
  },
  {
   "cell_type": "code",
   "execution_count": 10,
   "metadata": {},
   "outputs": [],
   "source": [
    "# url_info.index = url_info['Restaurant Name']\n",
    "# res_map = url_info['Restaurant ID'].to_dict()\n",
    "\n",
    "# restaurant_info['Restaurant ID'] = restaurant_info['Restaurant Name'].replace(res_map)\n",
    "# restaurant_info"
   ]
  },
  {
   "cell_type": "code",
   "execution_count": 11,
   "metadata": {},
   "outputs": [
    {
     "data": {
      "text/plain": [
       "0"
      ]
     },
     "execution_count": 11,
     "metadata": {},
     "output_type": "execute_result"
    }
   ],
   "source": [
    "#number of distinct restaurants present in the data\n",
    "restaurant_info['Restaurant Name'].nunique()"
   ]
  },
  {
   "cell_type": "markdown",
   "metadata": {},
   "source": [
    "# MODEL BUILDING"
   ]
  },
  {
   "cell_type": "code",
   "execution_count": 12,
   "metadata": {},
   "outputs": [],
   "source": [
    "from sklearn.preprocessing import StandardScaler \n",
    "from sklearn.metrics.pairwise import cosine_similarity\n",
    "from surprise import KNNWithZScore\n",
    "from surprise import SVD, dataset,Reader\n",
    "import pandas as pd\n",
    "import numpy as np"
   ]
  },
  {
   "cell_type": "code",
   "execution_count": 13,
   "metadata": {},
   "outputs": [
    {
     "data": {
      "text/html": [
       "<div>\n",
       "<style scoped>\n",
       "    .dataframe tbody tr th:only-of-type {\n",
       "        vertical-align: middle;\n",
       "    }\n",
       "\n",
       "    .dataframe tbody tr th {\n",
       "        vertical-align: top;\n",
       "    }\n",
       "\n",
       "    .dataframe thead th {\n",
       "        text-align: right;\n",
       "    }\n",
       "</style>\n",
       "<table border=\"1\" class=\"dataframe\">\n",
       "  <thead>\n",
       "    <tr style=\"text-align: right;\">\n",
       "      <th></th>\n",
       "      <th>Restaurant Name</th>\n",
       "      <th>Restaurant ID</th>\n",
       "      <th>User Name</th>\n",
       "      <th>User ID</th>\n",
       "      <th>Rating</th>\n",
       "    </tr>\n",
       "  </thead>\n",
       "  <tbody>\n",
       "    <tr>\n",
       "      <th>0</th>\n",
       "      <td>Red Rhino</td>\n",
       "      <td>18492910</td>\n",
       "      <td>Utsav Walia</td>\n",
       "      <td>49291855</td>\n",
       "      <td>2.0</td>\n",
       "    </tr>\n",
       "    <tr>\n",
       "      <th>1</th>\n",
       "      <td>Red Rhino</td>\n",
       "      <td>18492910</td>\n",
       "      <td>Richa Kulshrestha</td>\n",
       "      <td>2208232</td>\n",
       "      <td>4.0</td>\n",
       "    </tr>\n",
       "    <tr>\n",
       "      <th>2</th>\n",
       "      <td>Red Rhino</td>\n",
       "      <td>18492910</td>\n",
       "      <td>Ekta Nayak</td>\n",
       "      <td>27365170</td>\n",
       "      <td>5.0</td>\n",
       "    </tr>\n",
       "    <tr>\n",
       "      <th>3</th>\n",
       "      <td>Red Rhino</td>\n",
       "      <td>18492910</td>\n",
       "      <td>Gupteswar Prasad Sarangi</td>\n",
       "      <td>1343707</td>\n",
       "      <td>4.0</td>\n",
       "    </tr>\n",
       "    <tr>\n",
       "      <th>4</th>\n",
       "      <td>Red Rhino</td>\n",
       "      <td>18492910</td>\n",
       "      <td>Nikhil Agrawal</td>\n",
       "      <td>31914860</td>\n",
       "      <td>5.0</td>\n",
       "    </tr>\n",
       "  </tbody>\n",
       "</table>\n",
       "</div>"
      ],
      "text/plain": [
       "  Restaurant Name  Restaurant ID                 User Name   User ID  Rating\n",
       "0       Red Rhino       18492910               Utsav Walia  49291855     2.0\n",
       "1       Red Rhino       18492910         Richa Kulshrestha   2208232     4.0\n",
       "2       Red Rhino       18492910                Ekta Nayak  27365170     5.0\n",
       "3       Red Rhino       18492910  Gupteswar Prasad Sarangi   1343707     4.0\n",
       "4       Red Rhino       18492910            Nikhil Agrawal  31914860     5.0"
      ]
     },
     "execution_count": 13,
     "metadata": {},
     "output_type": "execute_result"
    }
   ],
   "source": [
    "review=pd.read_csv('C:/Users/Administrator/Downloads/Reviews.csv')\n",
    "review.head()"
   ]
  },
  {
   "cell_type": "code",
   "execution_count": 18,
   "metadata": {},
   "outputs": [],
   "source": [
    "scaler=StandardScaler()\n",
    "ui_review_matrix=review.pivot_table(columns='Restaurant ID',index='User ID',values='Rating')\n",
    "null_matrix=ui_review_matrix\n",
    "scaler.fit(ui_review_matrix)\n",
    "# ui_review_matrix=ui_review_matrix.apply(lambda x: ((x-x.mean)/x.std()),axis=1).fillna(0)\n",
    "ui_review_matrix=pd.DataFrame(scaler.transform(ui_review_matrix),columns=ui_review_matrix.columns,index=ui_review_matrix.index)\n",
    "ui_review_matrix=ui_review_matrix.fillna(0)\n",
    "ui_review_matrix.head()"
   ]
  },
  {
   "cell_type": "code",
   "execution_count": null,
   "metadata": {},
   "outputs": [],
   "source": [
    "sim_matrix=pd.DataFrame(cosine_similarity(ui_review_matrix),index=ui_review_matrix.index,\n",
    "                       columns=ui_review_matrix.index)\n",
    "sim_matrix.head()"
   ]
  },
  {
   "cell_type": "code",
   "execution_count": null,
   "metadata": {},
   "outputs": [],
   "source": [
    "def recommend(userid):\n",
    "    neigh=sim_matrix[userid].drop(userid).sort_values(ascending=False).head(5).index\n",
    "    neigh_matrix=ui_review_matrix.loc[neigh]\n",
    "    user_restaraunt=null_matrix.loc[userid]\n",
    "    not_gone=user_restaraunt[pd.isnull(user_restaraunt)]\n",
    "    pred=neigh_matrix.mean()[not_gone.index]\n",
    "    recommend=pred.sort_values(ascending=False).head().index\n",
    "    data=review[review['Restaurant ID'].isin(recommend)]['Restaurant Name'].unique()\n",
    "    return pd.DataFrame(data).rename(columns={0:'Restaraunt Name'})"
   ]
  },
  {
   "cell_type": "code",
   "execution_count": null,
   "metadata": {},
   "outputs": [],
   "source": [
    "recommend(11876)"
   ]
  },
  {
   "cell_type": "code",
   "execution_count": null,
   "metadata": {},
   "outputs": [],
   "source": []
  },
  {
   "cell_type": "code",
   "execution_count": null,
   "metadata": {},
   "outputs": [],
   "source": []
  },
  {
   "cell_type": "code",
   "execution_count": null,
   "metadata": {},
   "outputs": [],
   "source": []
  },
  {
   "cell_type": "code",
   "execution_count": null,
   "metadata": {},
   "outputs": [],
   "source": []
  },
  {
   "cell_type": "code",
   "execution_count": null,
   "metadata": {},
   "outputs": [],
   "source": []
  },
  {
   "cell_type": "code",
   "execution_count": null,
   "metadata": {},
   "outputs": [],
   "source": []
  },
  {
   "cell_type": "code",
   "execution_count": null,
   "metadata": {},
   "outputs": [],
   "source": []
  },
  {
   "cell_type": "code",
   "execution_count": null,
   "metadata": {},
   "outputs": [],
   "source": []
  },
  {
   "cell_type": "code",
   "execution_count": null,
   "metadata": {},
   "outputs": [],
   "source": []
  },
  {
   "cell_type": "code",
   "execution_count": null,
   "metadata": {},
   "outputs": [],
   "source": []
  },
  {
   "cell_type": "code",
   "execution_count": null,
   "metadata": {},
   "outputs": [],
   "source": []
  },
  {
   "cell_type": "code",
   "execution_count": null,
   "metadata": {},
   "outputs": [],
   "source": []
  },
  {
   "cell_type": "code",
   "execution_count": null,
   "metadata": {},
   "outputs": [],
   "source": []
  },
  {
   "cell_type": "code",
   "execution_count": null,
   "metadata": {},
   "outputs": [],
   "source": []
  },
  {
   "cell_type": "code",
   "execution_count": null,
   "metadata": {},
   "outputs": [],
   "source": []
  },
  {
   "cell_type": "code",
   "execution_count": null,
   "metadata": {},
   "outputs": [],
   "source": []
  },
  {
   "cell_type": "code",
   "execution_count": null,
   "metadata": {},
   "outputs": [],
   "source": []
  },
  {
   "cell_type": "code",
   "execution_count": null,
   "metadata": {},
   "outputs": [],
   "source": []
  },
  {
   "cell_type": "code",
   "execution_count": null,
   "metadata": {},
   "outputs": [],
   "source": []
  },
  {
   "cell_type": "code",
   "execution_count": null,
   "metadata": {},
   "outputs": [],
   "source": []
  },
  {
   "cell_type": "code",
   "execution_count": null,
   "metadata": {},
   "outputs": [],
   "source": []
  },
  {
   "cell_type": "code",
   "execution_count": null,
   "metadata": {},
   "outputs": [],
   "source": []
  },
  {
   "cell_type": "code",
   "execution_count": null,
   "metadata": {},
   "outputs": [],
   "source": []
  },
  {
   "cell_type": "code",
   "execution_count": null,
   "metadata": {},
   "outputs": [],
   "source": []
  },
  {
   "cell_type": "code",
   "execution_count": null,
   "metadata": {},
   "outputs": [],
   "source": []
  },
  {
   "cell_type": "code",
   "execution_count": null,
   "metadata": {},
   "outputs": [],
   "source": []
  },
  {
   "cell_type": "code",
   "execution_count": null,
   "metadata": {},
   "outputs": [],
   "source": []
  },
  {
   "cell_type": "code",
   "execution_count": null,
   "metadata": {},
   "outputs": [],
   "source": []
  },
  {
   "cell_type": "code",
   "execution_count": null,
   "metadata": {},
   "outputs": [],
   "source": []
  }
 ],
 "metadata": {
  "kernelspec": {
   "display_name": "Python 3",
   "language": "python",
   "name": "python3"
  },
  "language_info": {
   "codemirror_mode": {
    "name": "ipython",
    "version": 3
   },
   "file_extension": ".py",
   "mimetype": "text/x-python",
   "name": "python",
   "nbconvert_exporter": "python",
   "pygments_lexer": "ipython3",
   "version": "3.6.4"
  }
 },
 "nbformat": 4,
 "nbformat_minor": 2
}
